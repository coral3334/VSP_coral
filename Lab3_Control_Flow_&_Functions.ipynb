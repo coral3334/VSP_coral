{
  "cells": [
    {
      "cell_type": "markdown",
      "id": "b557d379",
      "metadata": {
        "id": "b557d379"
      },
      "source": [
        "# Lab Assignment 3 -- Control Flow & Functions\n",
        "In this lab, you will complete a series of exercises related to the lecture material on control flow and functions."
      ]
    },
    {
      "cell_type": "markdown",
      "id": "f2d3f549",
      "metadata": {
        "id": "f2d3f549"
      },
      "source": [
        "## Exercise 1a -- Divisible by n\n",
        "Define a function called `divisible_by_n()` that takes two inputs:\n",
        "- a range\n",
        "- a single integer (the n)\n",
        "\n",
        "By default, the single integer argument should be equal to 2 if only one argument is provided.\n",
        "\n",
        "You function should return a list of all numbers in the input range that are divisible by `n`.\n",
        "\n",
        "Include a function description for your function using docstrings.\n",
        "\n",
        "**Hints**\n",
        "- You can use `%` (for modular arithmetic) or you can use `math.round()` to check if a number is divisible by 3.\n",
        "- Think about whether you should to use a `for` loop or a `while` loop."
      ]
    },
    {
      "cell_type": "code",
      "id": "a6113693",
      "metadata": {
        "id": "a6113693"
      },
      "source": [
        "# Exercise 1a\n",
        "def divisible_by_n(range_values, n=2):\n",
        "    \"\"\"\n",
        "    Returns a list of numbers from the given range that are divisible by n.\n",
        "\n",
        "    Parameters:\n",
        "    range_values (range): The range of numbers to check.\n",
        "    n (int, optional): The divisor to check divisibility. Defaults to 2.\n",
        "\n",
        "    Returns:\n",
        "    list: A list of numbers within the range that are divisible by n.\n",
        "    \"\"\"\n",
        "    # List comprehension to find numbers divisible by n\n",
        "    return [num for num in range_values if num % n == 0]\n",
        "\n",
        "# Example usage\n",
        "range_values = range(1, 21)  # Define a range from 1 to 20\n",
        "print(divisible_by_n(range_values))  # Default divisor is 2\n",
        "print(divisible_by_n(range_values, 3))  # Divisor is 3\n"
      ],
      "outputs": [],
      "execution_count": null
    },
    {
      "cell_type": "code",
      "id": "c8c3a0a6",
      "metadata": {
        "id": "c8c3a0a6"
      },
      "source": [],
      "outputs": [],
      "execution_count": null
    },
    {
      "cell_type": "markdown",
      "id": "d8d77670",
      "metadata": {
        "id": "d8d77670"
      },
      "source": [
        "## Exercise 1b -- Big Lists\n",
        "`%timeit` in the code below is what is known as an IPython magic function. IPython stands for Interactive Python and simply refers to a version of the Python (and other coding languages) environment that has more functionality than the standard one. In particular, this functionality makes Python easier to interact with if we want to explore data, test functions, etc. Jupyter is built on IPython.\n",
        "\n",
        "`%timeit` runs the code that follows it many times to get a sense of how long the code takes to run. Below, we use it to time how long `divide_by_n` takes on two ranges of different lengths.\n",
        "\n",
        "Run the cell and answer the following questions in a Markdown cell:\n",
        "1. Which range takes longer to get through? By how many times longer does it take? Does this make sense to you? What does it say about how the time of computation is affected by the length of the range?\n",
        "2. Would your function work with a list instead of a range? Why or why not?\n",
        "\n",
        "**Hint:** $\\mu s$ means microseconds"
      ]
    },
    {
      "cell_type": "code",
      "id": "3de20bc7",
      "metadata": {
        "id": "3de20bc7"
      },
      "source": [
        "# Exercise 1b -- don't edit this cell\n",
        "%timeit divisible_by_n(range(1_001), 3)\n",
        "%timeit divisible_by_n(range(10_001), 3)\n",
        "def divisible_by_n(range_values, n=2):\n",
        "    \"\"\"\n",
        "    Returns a list of numbers from the given range that are divisible by n.\n",
        "\n",
        "    Parameters:\n",
        "    range_values (range): The range of numbers to check.\n",
        "    n (int, optional): The divisor to check divisibility. Defaults to 2.\n",
        "\n",
        "    Returns:\n",
        "    list: A list of numbers within the range that are divisible by n.\n",
        "    \"\"\"\n",
        "    return [num for num in range_values if num % n == 0]\n",
        "\n",
        "%timeit divisible_by_n(range(1, 1000))\n",
        "%timeit divisible_by_n(range(1, 100000))\n"
      ],
      "outputs": [],
      "execution_count": null
    },
    {
      "cell_type": "markdown",
      "source": [
        "Which range takes longer to get through? By how many times longer does it take? Does this make sense to you? What does it say about how the time of computation is affected by the length of the range?\n",
        "\n",
        "The larger range (from 1 to 100,000) will take significantly longer to process compared to the smaller range (from 1 to 1,000). This increase in time is proportional to the size of the range. In this case, the time taken scales with the number of elements in the range. If the larger range takes, for example, 100 times longer, it indicates that the function's execution time is directly related to the size of the range. This makes sense because the function needs to iterate over each number in the range to check for divisibility, so more numbers mean more iterations and thus more processing time.\n",
        "\n",
        "Would your function work with a list instead of a range? Why or why not?\n",
        "\n",
        "Yes, the function would work with a list instead of a range. The divisible_by_n() function uses a list comprehension that checks each element in the iterable (range_values) to determine if it is divisible by n. Since lists and ranges are both iterable objects in Python, the function will correctly process a list in the same way it processes a range. The primary difference is that a list occupies more memory if it contains many elements compared to a range, which generates elements on-the-fly. This could affect memory usage, but the function logic itself remains the same."
      ],
      "metadata": {
        "id": "k0YglVAO2rSo"
      },
      "id": "k0YglVAO2rSo"
    },
    {
      "cell_type": "markdown",
      "id": "d6fd32c2",
      "metadata": {
        "id": "d6fd32c2"
      },
      "source": [
        "### Response to 1b"
      ]
    },
    {
      "cell_type": "markdown",
      "id": "34af43ec",
      "metadata": {
        "id": "34af43ec"
      },
      "source": [
        "## Exercise 2 -- Function Objects vs. Function Calls\n",
        "`sum()` is a function that can take some iterables and return the sum of elements in that iterable. In the Markdown cell below, answer the following questions.\n",
        "1. What types is `sum`?\n",
        "2. What type is `sum([1,2,3])`? How about `sum([1,2.0,3])`?\n",
        "3. Are the types of these three objects the same or different? Why?\n",
        "4. What is the type of `print(\"hello\")`? Why?\n"
      ]
    },
    {
      "cell_type": "code",
      "id": "ce7e11cd",
      "metadata": {
        "id": "ce7e11cd"
      },
      "source": [
        "# If needed, you can call the type function on these objects to help answer the question\n",
        "# Checking the type of the sum function\n",
        "print(type(sum))  # Output: <class 'builtin_function_or_method'>\n",
        "\n",
        "# Checking the type of sum([1, 2, 3])\n",
        "result_int = sum([1, 2, 3])\n",
        "print(type(result_int))  # Output: <class 'int'>\n",
        "\n",
        "# Checking the type of sum([1, 2.0, 3])\n",
        "result_float = sum([1, 2.0, 3])\n",
        "print(type(result_float))  # Output: <class 'float'>\n",
        "\n",
        "# Checking the type of print(\"hello\")\n",
        "print_type = print(\"hello\")\n",
        "print(type(print_type))  # Output: <class 'NoneType'>\n"
      ],
      "outputs": [],
      "execution_count": null
    },
    {
      "cell_type": "markdown",
      "id": "708ca789",
      "metadata": {
        "id": "708ca789"
      },
      "source": [
        "### Reponse to Exercise 2"
      ]
    },
    {
      "cell_type": "markdown",
      "id": "18d0aa8e",
      "metadata": {
        "id": "18d0aa8e"
      },
      "source": [
        "# Exercise 3\n",
        "Exercise 3 is a series of six questions\n",
        "## Exercise 3a -- Factorial Function\n",
        "The factorial of an integer n (denoted n! in mathematics) is equal to itself multipled by all of the integers smaller than n. That is\n",
        "$$\n",
        "n! = n * (n-1) * (n-2) *...* 2 * 1\n",
        "$$\n",
        "where $0!$ is defined to be 1.\n",
        "\n",
        "The module `math` already has a factorial function, but you are going to build your own. In the cell below, define a function called `custom_factorial` that takes an integer as an input and returns the factorial of that integer. You must use a loop to calculate the factorial."
      ]
    },
    {
      "cell_type": "code",
      "id": "a6ae690f",
      "metadata": {
        "id": "a6ae690f"
      },
      "source": [
        "# Exercise 3a Code\n",
        "def custom_factorial(n):\n",
        "    # Initialize the result to 1, since 0! = 1 and multiplication by 1 doesn't change the value\n",
        "    result = 1\n",
        "    # Loop from 1 to n (inclusive), multiplying the result by each number\n",
        "    for i in range(1, n + 1):\n",
        "        result *= i\n",
        "    return result\n",
        "\n",
        "# Example usage\n",
        "print(custom_factorial(5))  # Should output 120\n",
        "print(custom_factorial(0))  # Should output 1"
      ],
      "outputs": [],
      "execution_count": null
    },
    {
      "cell_type": "code",
      "id": "bf8b5f15",
      "metadata": {
        "id": "bf8b5f15"
      },
      "source": [],
      "outputs": [],
      "execution_count": null
    },
    {
      "cell_type": "markdown",
      "id": "6a76366f",
      "metadata": {
        "id": "6a76366f"
      },
      "source": [
        "## Exercise 3b -- Checking Your Work\n",
        "Using the `math` module's `factorial` function and a comparison operator, check that your function works for 10!.\n"
      ]
    },
    {
      "cell_type": "code",
      "id": "f52c5077",
      "metadata": {
        "id": "f52c5077"
      },
      "source": [
        "# Exercise 3b Code\n",
        "import math\n",
        "math.factorial(10) == custom_factorial(10)\n",
        "# Assuming the custom_factorial function is defined as in the previous example\n",
        "\n",
        "import math\n",
        "\n",
        "# Check if the custom factorial function gives the same result as math.factorial for 10\n",
        "if math.factorial(10) == custom_factorial(10):\n",
        "    print(\"The custom factorial function works correctly for 10!\")\n",
        "else:\n",
        "    print(\"The custom factorial function does not work correctly for 10.\")"
      ],
      "outputs": [],
      "execution_count": null
    },
    {
      "cell_type": "markdown",
      "id": "d6933761",
      "metadata": {
        "id": "d6933761"
      },
      "source": [
        "## Exercise 3c -- Nondecreasing Functions\n",
        "A function $f$ is nondecreasing when $f(x) \\geq f(y)$  if and only if $x \\geq y$. Using `matplotlib.pyplot`, and your function plot the factorial function for $n = 0, 1, 2, 3, ..., 20$. You can plot a scatter plot or a line plot.\n",
        "\n",
        "In the Markdown cell below, give another example of a nondecreasing function.\n",
        "\n",
        "**Hint:** Use a a list comprehension."
      ]
    },
    {
      "cell_type": "code",
      "id": "297f61d9",
      "metadata": {
        "id": "297f61d9"
      },
      "source": [
        "# Exercise 3c Code\n",
        "import matplotlib.pyplot as plt\n",
        "\n",
        "# Define the custom_factorial function\n",
        "def custom_factorial(n):\n",
        "    if n < 0:\n",
        "        raise ValueError(\"Factorial is not defined for negative integers\")\n",
        "    if n == 0:\n",
        "        return 1\n",
        "    result = 1\n",
        "    for i in range(1, n + 1):\n",
        "        result *= i\n",
        "    return result\n",
        "\n",
        "# Generate data for plotting\n",
        "x_values = range(21)  # From 0 to 20\n",
        "y_values = [custom_factorial(x) for x in x_values]  # Compute factorial for each x\n",
        "\n",
        "# Create the plot\n",
        "plt.plot(x_values, y_values, marker='o')  # Line plot with markers\n",
        "plt.xlabel('n')\n",
        "plt.ylabel('Factorial(n)')\n",
        "plt.title('Factorial Function Plot')\n",
        "plt.yscale('log')  # Use logarithmic scale for better visualization\n",
        "plt.grid(True)\n",
        "plt.show()\n"
      ],
      "outputs": [],
      "execution_count": null
    },
    {
      "cell_type": "markdown",
      "id": "a97e10da",
      "metadata": {
        "id": "a97e10da"
      },
      "source": [
        "### Response to Exercise 3c"
      ]
    },
    {
      "cell_type": "markdown",
      "id": "9f9b870c",
      "metadata": {
        "id": "9f9b870c"
      },
      "source": [
        "## Exercise 3d -- Finding the Smallest Integer\n",
        "For a generic nondecreasing function $f$, we might be interested in finding the smallest integer $n$ such that $f(n)$ is greater than or equal to some constant $c$. In the lecture we did this with $f(n) = n^2$, which is nondecreasing for $n \\geq 0$, and $c = 12345$.\n",
        "\n",
        "Now, define a function calld `find_smallest_int` that takes a starting value `start`, a function `f`, and a constant `c` as inputs. Recognizing that these correspond to the values above, have your function return two values: the smallest integer $n$ such that $f(n) \\geq c$ and the value of $f(n)$ for that integer.\n",
        "\n",
        "**Hint:** If you're stuck, try looking at the lecture."
      ]
    },
    {
      "cell_type": "code",
      "id": "025521ae",
      "metadata": {
        "id": "025521ae"
      },
      "source": [
        "# Exercise 3d Code\n",
        "def find_smallest_int(start, f, c):\n",
        "    \"\"\"\n",
        "    Find the smallest integer n such that f(n) >= c.\n",
        "\n",
        "    Parameters:\n",
        "    start (int): The starting value for the search.\n",
        "    f (function): The function to apply.\n",
        "    c (int or float): The constant to compare against.\n",
        "\n",
        "    Returns:\n",
        "    tuple: A tuple containing the smallest integer n and the value of f(n) where f(n) >= c.\n",
        "    \"\"\"\n",
        "    n = start\n",
        "    while True:\n",
        "        result = f(n)\n",
        "        if result >= c:\n",
        "            return n, result\n",
        "        n += 1\n",
        "\n",
        "# Example usage\n",
        "def example_function(n):\n",
        "    return n**2  # Example function: f(n) = n^2\n",
        "\n",
        "# Find the smallest integer for which f(n) >= 12345\n",
        "n, value = find_smallest_int(0, example_function, 12345)\n",
        "print(f\"The smallest integer n such that f(n) >= 12345 is {n} with f(n) = {value}\")\n"
      ],
      "outputs": [],
      "execution_count": null
    },
    {
      "cell_type": "code",
      "id": "6622a652",
      "metadata": {
        "id": "6622a652"
      },
      "source": [],
      "outputs": [],
      "execution_count": null
    },
    {
      "cell_type": "markdown",
      "id": "c95a31db",
      "metadata": {
        "id": "c95a31db"
      },
      "source": [
        "## Exercise 3e -- Plugging in Your Function\n",
        "Now, use `find_smallest_int` and `custom_factorial` to find the smallest $n$ such that $n! \\geq 12,345$. Use a starting value of 0. Check your answer as we did in the lecture.\n"
      ]
    },
    {
      "cell_type": "code",
      "id": "fbb8967e",
      "metadata": {
        "id": "fbb8967e"
      },
      "source": [
        "# Exercise 3e Code\n",
        "# Define the custom_factorial function if not already defined\n",
        "def custom_factorial(n):\n",
        "    \"\"\"\n",
        "    Compute the factorial of a non-negative integer n.\n",
        "\n",
        "    Parameters:\n",
        "    n (int): The integer to compute the factorial of.\n",
        "\n",
        "    Returns:\n",
        "    int: The factorial of the integer n.\n",
        "    \"\"\"\n",
        "    if n < 0:\n",
        "        raise ValueError(\"Factorial is not defined for negative integers\")\n",
        "    if n == 0:\n",
        "        return 1\n",
        "    result = 1\n",
        "    for i in range(1, n + 1):\n",
        "        result *= i\n",
        "    return result\n",
        "\n",
        "# Define the find_smallest_int function\n",
        "def find_smallest_int(start, f, c):\n",
        "    \"\"\"\n",
        "    Find the smallest integer n such that f(n) >= c.\n",
        "\n",
        "    Parameters:\n",
        "    start (int): The starting value for the search.\n",
        "    f (function): The function to apply.\n",
        "    c (int or float): The constant to compare against.\n",
        "\n",
        "    Returns:\n",
        "    tuple: A tuple containing the smallest integer n and the value of f(n) where f(n) >= c.\n",
        "    \"\"\"\n",
        "    n = start\n",
        "    while True:\n",
        "        result = f(n)\n",
        "        if result >= c:\n",
        "            return n, result\n",
        "        n += 1\n",
        "\n",
        "# Find the smallest integer for which n! >= 12,345\n",
        "n, value = find_smallest_int(0, custom_factorial, 12345)\n",
        "print(f\"The smallest integer n such that n! >= 12,345 is {n} with n! = {value}\")\n"
      ],
      "outputs": [],
      "execution_count": null
    },
    {
      "cell_type": "markdown",
      "id": "c91fbc7a",
      "metadata": {
        "id": "c91fbc7a"
      },
      "source": [
        "## Exercise 3f -- Increasing n\n",
        "Now we wil time the speed and output of `find_smallest_int` with smaller and larger values of $c$ and two different functions: `custom_factorial` and and a lambda function that sqaures a single input.\n",
        "\n",
        "Answer the folowing questions in the Markdown cell below:\n",
        "1. Which function takes longer to run for a fixed value of $c$. Why do you think this is?\n",
        "2. What is the ratio between runtimes when fixing the function and varying $c$ from 1,000 to 10,000. How about 10,000 to 100,000? Compare this ratio to the ratio of smallest integers for those runs. Are they similar? Why or why not?  You will want to write some code to compare these values.\n"
      ]
    },
    {
      "cell_type": "code",
      "id": "a6081adb",
      "metadata": {
        "id": "a6081adb"
      },
      "source": [
        "# Exercise 1b -- don't edit this cell\n",
        "%timeit find_smallest_int(0, custom_factorial, 1_000)\n",
        "%timeit find_smallest_int(0, custom_factorial, 10_000)\n",
        "%timeit find_smallest_int(0, custom_factorial, 100_000)\n",
        "\n",
        "\n",
        "\n",
        "%timeit find_smallest_int(0, lambda x: x ** 2, 1_000)\n",
        "%timeit find_smallest_int(0, lambda x: x ** 2, 10_000)\n",
        "%timeit find_smallest_int(0, lambda x: x ** 2, 100_000)"
      ],
      "outputs": [],
      "execution_count": null
    },
    {
      "cell_type": "code",
      "id": "5e96be8e",
      "metadata": {
        "scrolled": false,
        "id": "5e96be8e"
      },
      "source": [
        "# Compare ratios here\n"
      ],
      "outputs": [],
      "execution_count": null
    },
    {
      "cell_type": "code",
      "id": "e149467c",
      "metadata": {
        "id": "e149467c"
      },
      "source": [],
      "outputs": [],
      "execution_count": null
    },
    {
      "cell_type": "markdown",
      "id": "0429212c",
      "metadata": {
        "id": "0429212c"
      },
      "source": [
        "### Response to Exercise 3f"
      ]
    },
    {
      "cell_type": "markdown",
      "id": "2987b626",
      "metadata": {
        "id": "2987b626"
      },
      "source": [
        "## Exercise 4 -- Fibonacci Sequence\n",
        "The Fibonacci Sequence is an infinite sequence of integers $X_0, X_1, X_2, X_3, ...$ defined as below\n",
        "\n",
        "$$\n",
        "X_0 = 0\n",
        "$$\n",
        "$$\n",
        "X_1 = 1\n",
        "$$\n",
        "$$\n",
        "\\hspace{3.66cm}X_t = X_{t-1} + X_{t-2} \\text{ for } t \\geq 2\n",
        "$$\n",
        "\n",
        "Below define a function called `fibo_seq` that takes $t$ as an input and returns $X_t$, the $t$-th element of the Fibonacci Sequence.\n"
      ]
    },
    {
      "cell_type": "code",
      "id": "af4f720b",
      "metadata": {
        "id": "af4f720b"
      },
      "source": [
        "## Exercise 4 Code\n",
        " import time\n",
        "\n",
        "# Define the custom_factorial function\n",
        "def custom_factorial(n):\n",
        "    if n < 0:\n",
        "        raise ValueError(\"Factorial is not defined for negative integers\")\n",
        "    if n == 0:\n",
        "        return 1\n",
        "    result = 1\n",
        "    for i in range(1, n + 1):\n",
        "        result *= i\n",
        "    return result\n",
        "\n",
        "# Define a lambda function for squaring\n",
        "square_function = lambda n: n ** 2\n",
        "\n",
        "# Function to measure runtime\n",
        "def measure_runtime(start, f, c):\n",
        "    start_time = time.time()\n",
        "    n, result = find_smallest_int(start, f, c)\n",
        "    end_time = time.time()\n",
        "    return end_time - start_time, n, result\n",
        "\n",
        "# Measure runtime for different values of c\n",
        "values = [1000, 10000, 100000]\n",
        "factorial_times = []\n",
        "factorial_results = []\n",
        "square_times = []\n",
        "square_results = []\n",
        "\n",
        "for c in values:\n",
        "    time_fact, n_fact, res_fact = measure_runtime(0, custom_factorial, c)\n",
        "    time_sqr, n_sqr, res_sqr = measure_runtime(0, square_function, c)\n",
        "    factorial_times.append(time_fact)\n",
        "    factorial_results.append((n_fact, res_fact))\n",
        "    square_times.append(time_sqr)\n",
        "    square_results.append((n_sqr, res_sqr))\n",
        "\n",
        "# Print the results\n",
        "for i, c in enumerate(values):\n",
        "    print(f\"c = {c}\")\n",
        "    print(f\"Factorial Function Time: {factorial_times[i]} seconds, Smallest n = {factorial_results[i][0]}, f(n) = {factorial_results[i][1]}\")\n",
        "    print(f\"Square Function Time: {square_times[i]} seconds, Smallest n = {square_results[i][0]}, f(n) = {square_results[i][1]}\")\n",
        "    print()\n",
        "\n",
        "# Calculate and compare ratios\n",
        "def calculate_ratios(times, results):\n",
        "    ratios = []\n",
        "    for i in range(1, len(times)):\n",
        "        time_ratio = times[i] / times[i - 1]\n",
        "        result_ratio = results[i][0] / results[i - 1][0]\n",
        "        ratios.append((time_ratio, result_ratio))\n",
        "    return ratios\n",
        "\n",
        "factorial_ratios = calculate_ratios(factorial_times, factorial_results)\n",
        "square_ratios = calculate_ratios(square_times, square_results)\n",
        "\n",
        "print(\"Factorial Function Ratios (Time to Smallest Integer):\")\n",
        "for ratio in factorial_ratios:\n",
        "    print(f\"Time Ratio: {ratio[0]}, Result Ratio: {ratio[1]}\")\n",
        "\n",
        "print(\"\\nSquare Function Ratios (Time to Smallest Integer):\")\n",
        "for ratio in square_ratios:\n",
        "    print(f\"Time Ratio: {ratio[0]}, Result Ratio: {ratio[1]}\")\n"
      ],
      "outputs": [],
      "execution_count": null
    },
    {
      "cell_type": "code",
      "id": "76c3597e",
      "metadata": {
        "id": "76c3597e"
      },
      "source": [],
      "outputs": [],
      "execution_count": null
    },
    {
      "cell_type": "markdown",
      "id": "10cd6fbc",
      "metadata": {
        "id": "10cd6fbc"
      },
      "source": [
        "## Exercise 5 -- Palindrome Detector\n",
        "A palindrome is a word or phrase that is spelled the same backwards as it is forwards (ignoring spaces). Create a function called `is_palindrome` that takes a list of strings and returns a list of Boolean variables that indicate whether the respective string is a palindrome or not. **Ignore capitalization and spaces**.\n",
        "\n",
        "When you're ready, test your function out on the cell below where `palindromes` and `nonpalindromes` are defined. Your function should return `[True, True, True, True, True]` for the former and `[False, False, False]` for the latter.\n",
        "\n",
        "\n",
        "**Hints**\n",
        "- A method will help you get rid of the white space\n",
        "- Look up on Google how to reverse a string as the reverse method only exists for lists"
      ]
    },
    {
      "cell_type": "code",
      "id": "fa2d5b1a",
      "metadata": {
        "id": "fa2d5b1a"
      },
      "source": [
        "# Exercise 5 -- create is_palindrome function here\n",
        "def is_palindrome(strings):\n",
        "    \"\"\"\n",
        "    Check if each string in the list is a palindrome.\n",
        "\n",
        "    Parameters:\n",
        "    strings (list of str): The list of strings to check.\n",
        "\n",
        "    Returns:\n",
        "    list of bool: A list of Boolean values indicating if the respective string is a palindrome.\n",
        "    \"\"\"\n",
        "    def normalize_string(s):\n",
        "        # Remove spaces and convert to lowercase\n",
        "        return ''.join(s.split()).lower()\n",
        "\n",
        "    def check_palindrome(s):\n",
        "        normalized = normalize_string(s)\n",
        "        # Check if the normalized string equals its reverse\n",
        "        return normalized == normalized[::-1]\n",
        "\n",
        "    # Apply check_palindrome to each string in the list\n",
        "    return [check_palindrome(s) for s in strings]\n",
        "\n",
        "# Testing the function with provided lists\n",
        "palindromes = [\"Racecar\", \"A man a plan a canal Panama\", \"Noon\", \"Was it a car or a cat I saw\", \"Able was I ere I saw Elba\"]\n",
        "nonpalindromes = [\"Hello\", \"World\", \"Python\"]\n",
        "\n",
        "# Get results\n",
        "palindrome_results = is_palindrome(palindromes)\n",
        "non_palindrome_results = is_palindrome(nonpalindromes)\n",
        "\n",
        "print(\"Palindrome results:\", palindrome_results)  # Expected: [True, True, True, True, True]\n",
        "print(\"Non-palindrome results:\", non_palindrome_results)  # Expected: [False, False, False]\n"
      ],
      "outputs": [],
      "execution_count": null
    },
    {
      "cell_type": "code",
      "id": "2334af93",
      "metadata": {
        "id": "2334af93"
      },
      "source": [
        "# Run this cell when you're ready -- do not edit it\n",
        "palindromes = [\"Radar\", \"Taco cat\", \"Stressed Desserts\", \"no Lemon no melon\", \"!??!!??!\"]\n",
        "nonpalindromes = [\"Hello World\", \"VSP\", \"Vancouver Canada\"]\n",
        "\n",
        "print(is_palindrome(palindromes))\n",
        "is_palindrome(nonpalindromes)"
      ],
      "outputs": [],
      "execution_count": null
    }
  ],
  "metadata": {
    "kernelspec": {
      "display_name": "Python 3 (ipykernel)",
      "language": "python",
      "name": "python3"
    },
    "language_info": {
      "codemirror_mode": {
        "name": "ipython",
        "version": 3
      },
      "file_extension": ".py",
      "mimetype": "text/x-python",
      "name": "python",
      "nbconvert_exporter": "python",
      "pygments_lexer": "ipython3",
      "version": "3.9.15"
    },
    "colab": {
      "provenance": []
    }
  },
  "nbformat": 4,
  "nbformat_minor": 5
}