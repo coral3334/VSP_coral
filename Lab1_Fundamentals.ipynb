{
  "cells": [
    {
      "cell_type": "markdown",
      "id": "fea96cfa",
      "metadata": {
        "id": "fea96cfa"
      },
      "source": [
        "# Lab Assignment 1 -- Fundamentals\n",
        "In this lab, you will complete a series of exercises related to the lecture material on coding fundamentals and collections.\n",
        "\n",
        "Since this is the first lab that involves coding, we will begin with an exercise related to Jupyter notebook functionality."
      ]
    },
    {
      "cell_type": "markdown",
      "id": "5b0e6098",
      "metadata": {
        "id": "5b0e6098"
      },
      "source": [
        "## Exercise 1 -- Jupyter Markdown Basics\n",
        "Jupyter notebooks allows cells to be interpreted as either code or Markdown. Markdown is a lightweight formatting language. In fact, what you're reading right now is written in Markdown. The syntax is very simple and a reference for common commands can be found [here](https://www.markdownguide.org/cheat-sheet/). Use this reference guide to complete the following steps:\n",
        "\n",
        "1. Create a cell below this one by using the insert drop down menu or by clicking on the left of this box (so the side bar turns blue) and tapping the <kbd>b</kbd> key.\n",
        "2. Make the cell a Markdown cell by clicking on it and using the drop down menu above.\n",
        "3. Using the reference guide, find out how to create the **smallest** heading  and use it give the cell you create a header of \"Solution to Exercise 1\" without the quotes.\n",
        "4. Using the reference guide, figure out how to make ordered and unordered lists. Using an unordered list, list three of the things you hope to learn from this class.\n",
        "5. Sometimes, we want to reference specific code or code objects in the text of Markdown. Markdown allows us to format such reference so that it appears in a gray box (e.g. `x=3`). Using the reference guide, figure out how to format code and format  x = 3, so it has a gray box around it in the cell you created."
      ]
    },
    {
      "cell_type": "markdown",
      "id": "7835167d",
      "metadata": {
        "id": "7835167d"
      },
      "source": [
        "## Exercise 2 -- Basic Variable Assignment\n",
        "Complete the following steps in the cells below.\n",
        "1. Generate a variable called `x_flt` and set it equal to 3.0. Print its type.\n",
        "2. Generate a variable called `x_int` and set it equal to 3. Print its type.\n",
        "3. Generate a variable called  `x_str` and set it equal to \"3\". Print its type.\n",
        "4. Which of these two variables can you add together with the `+` operator? Why? Answer in the Markdown cell below."
      ]
    },
    {
      "cell_type": "code",
      "id": "8c80cd8e",
      "metadata": {
        "id": "8c80cd8e"
      },
      "source": [
        "# Exercise 2 Code\n",
        "# Step 1\n",
        "x_flt = 3.0\n",
        "print(type(x_flt))\n",
        "\n",
        "# Step 2\n",
        "x_int = 3\n",
        "print(type(x_int))\n",
        "\n",
        "# Step 3\n",
        "x_str = \"3\"\n",
        "print(type(x_str))\n"
      ],
      "outputs": [],
      "execution_count": null
    },
    {
      "cell_type": "markdown",
      "source": [
        "You can add x_flt and x_int together using the + operator because they are both numeric types (float and integer, respectively). Adding these two will result in a float. However, you cannot directly add x_str with x_flt or x_int because x_str is a string. Attempting to do so will result in a TypeError. If needed, x_str can be converted to a numeric type before performing the addition."
      ],
      "metadata": {
        "id": "Fze8LPnXvh1e"
      },
      "id": "Fze8LPnXvh1e"
    },
    {
      "cell_type": "markdown",
      "id": "70b8adf0",
      "metadata": {
        "id": "70b8adf0"
      },
      "source": [
        "### Response to 2.4"
      ]
    },
    {
      "cell_type": "markdown",
      "id": "9db99652",
      "metadata": {
        "id": "9db99652"
      },
      "source": [
        "## Exercise 3 -- Variable Reassignment\n",
        "Complete the following steps in the cells below.\n",
        "1. Assign `x` equal to `\"good\"`\n",
        "2. Assign `y` equal to `x`\n",
        "3. Reassign `x` to `\"bad\"`\n",
        "4. Use `print` to print `y`\n",
        "5. Does the print statement print \"good\" or a \"bad\"? Did changing `x` to \"bad\" affect anything? Why or why not? Answer in the Markdown cell below."
      ]
    },
    {
      "cell_type": "code",
      "id": "9c154552",
      "metadata": {
        "scrolled": true,
        "id": "9c154552"
      },
      "source": [
        "# Exercise 3 Code\n",
        "# Step 1\n",
        "x = \"good\"\n",
        "\n",
        "# Step 2\n",
        "y = x\n",
        "\n",
        "# Step 3\n",
        "x = \"bad\"\n",
        "\n",
        "# Step 4\n",
        "print(y)\n"
      ],
      "outputs": [],
      "execution_count": null
    },
    {
      "cell_type": "markdown",
      "source": [
        "The print statement prints \"good\". Changing x to \"bad\" did not affect the value of y because y was assigned the value of x at the time when x was \"good\". Variables in Python hold references to values, so when x was reassigned to \"bad\", it pointed to a new value, but y still pointed to the original value \"good\"."
      ],
      "metadata": {
        "id": "zQmyurpRv31I"
      },
      "id": "zQmyurpRv31I"
    },
    {
      "cell_type": "markdown",
      "id": "b24737e5",
      "metadata": {
        "id": "b24737e5"
      },
      "source": [
        "### Response to 3.5"
      ]
    },
    {
      "cell_type": "markdown",
      "id": "4700d845",
      "metadata": {
        "id": "4700d845"
      },
      "source": [
        "## Exercise 4 -- Basic Arithmetic\n",
        "Generate the following variables with the corresponding value in the cell below:\n",
        "1. `x` equal to 20\n",
        "2. `y` equal to 10\n",
        "3. `z1` equal to the sum of `x` and `y`\n",
        "4. `z2` equal to `x` minus `y`\n",
        "5. `z3` equal to `x` times `y`\n",
        "6. `z4` equal to `x` divided by `y`\n",
        "\n",
        "Answer the following question in the Markdown Cell Below\n",
        "\n",
        "7. Use `type()` to deterimine which of these variables is a floating point number? Why is this the case?"
      ]
    },
    {
      "cell_type": "code",
      "id": "564b49ec",
      "metadata": {
        "id": "564b49ec"
      },
      "source": [
        "# Exercise 4 Code\n",
        "x = 20\n",
        "y = 10\n",
        "z1 = x + y\n",
        "z2 = x - y\n",
        "z3 = x * y\n",
        "z4 = x / y\n",
        "# Checking the types\n",
        "print(type(z1))  # int\n",
        "print(type(z2))  # int\n",
        "print(type(z3))  # int\n",
        "print(type(z4))  # float\n"
      ],
      "outputs": [],
      "execution_count": null
    },
    {
      "cell_type": "markdown",
      "source": [
        "The variable z4 is a floating point number. This is the case because in Python, division using the / operator always results in a float, even if the result is mathematically an integer. Therefore, z4 is a float because it is the result of x divided by y"
      ],
      "metadata": {
        "id": "tqx2MZgrxKAG"
      },
      "id": "tqx2MZgrxKAG"
    },
    {
      "cell_type": "markdown",
      "id": "ac2063f9",
      "metadata": {
        "id": "ac2063f9"
      },
      "source": [
        "### Response to 4.7"
      ]
    },
    {
      "metadata": {
        "id": "26e05e804aba213c"
      },
      "cell_type": "code",
      "source": [],
      "id": "26e05e804aba213c",
      "outputs": [],
      "execution_count": null
    },
    {
      "metadata": {
        "id": "2024ad69c823f131"
      },
      "cell_type": "markdown",
      "source": [
        "## Exercise 5 -- String Formatting\n",
        "Complete the following steps in the cell below:\n",
        "1. Define a list called `cities` that contains the names of three cities you would like to visit.\n",
        "2. Define a corresponding list called `countries` where an entry is the country of each of those three cities.\n",
        "3. Using these lists and f strings, print a sentence that says what country a city is in for each city in your list\n",
        "4. Now do the same thing again but use the `.format()` method instead of f strings."
      ],
      "id": "2024ad69c823f131"
    },
    {
      "metadata": {
        "id": "4bb3c5643a0ee99e"
      },
      "cell_type": "code",
      "source": [
        "# Exercise 5 Code\n",
        "# Step 1\n",
        "cities = [\"Tokyo\", \"Paris\", \"Sydney\"]\n",
        "\n",
        "# Step 2\n",
        "countries = [\"Japan\", \"France\", \"Australia\"]\n",
        "\n",
        "# Step 3 - Using f strings\n",
        "for i in range(len(cities)):\n",
        "    print(f\"{cities[i]} is in {countries[i]}.\")\n",
        "\n",
        "# Step 4 - Using .format() method\n",
        "for i in range(len(cities)):\n",
        "    print(\"{} is in {}.\".format(cities[i], countries[i]))\n"
      ],
      "id": "4bb3c5643a0ee99e",
      "outputs": [],
      "execution_count": null
    },
    {
      "metadata": {
        "id": "fce68f68177b1995"
      },
      "cell_type": "markdown",
      "source": [
        "## Exercise 6 -- String Concatenation\n",
        "Complete the following steps in the cell below:\n",
        "1. Assign `b` to be equal to \"b\"\n",
        "2. Assign `a` to be equal to \"a\"\n",
        "3. Assign `n` to be equal to \"n\"\n",
        "4. Using these variables, `+`, and `print`, print the the word \"banana\""
      ],
      "id": "fce68f68177b1995"
    },
    {
      "metadata": {
        "id": "7cd33ad42612cc2"
      },
      "cell_type": "code",
      "source": [
        "# Exercise 6 Code\n",
        "\n",
        "# Step 1\n",
        "b = \"b\"\n",
        "\n",
        "# Step 2\n",
        "a = \"a\"\n",
        "\n",
        "# Step 3\n",
        "n = \"n\"\n",
        "\n",
        "# Step 4\n",
        "print(b + a + n + a + n + a)\n",
        "\n"
      ],
      "id": "7cd33ad42612cc2",
      "outputs": [],
      "execution_count": null
    },
    {
      "metadata": {
        "id": "293a4c9fc698f9d9"
      },
      "cell_type": "markdown",
      "source": [
        "## Exercise 7 -- Boolean Variable Keywords\n",
        "Assign `a`, `b`,`c`, and `d`, so that every print statement below is true.\n",
        "\n",
        "\n",
        "Afterwards, answer the following quesiton in the Markdown cell below:\n",
        "\n",
        "Is the configuration of `a`, `b`,`c`, and `d` that makes both statements true unique? Why or why not? If it isn't unique, add another print statement to the list to rule out other configurations?"
      ],
      "id": "293a4c9fc698f9d9"
    },
    {
      "metadata": {
        "ExecuteTime": {
          "end_time": "2024-07-17T18:30:24.105217Z",
          "start_time": "2024-07-17T18:30:24.099238Z"
        },
        "id": "6a5495628c88bf25"
      },
      "cell_type": "code",
      "source": [
        "# Exercise 7 Code\n",
        "a = True\n",
        "b = False\n",
        "c = False\n",
        "d = False"
      ],
      "id": "6a5495628c88bf25",
      "outputs": [],
      "execution_count": null
    },
    {
      "metadata": {
        "ExecuteTime": {
          "end_time": "2024-07-17T18:30:24.958157Z",
          "start_time": "2024-07-17T18:30:24.947517Z"
        },
        "id": "5c6037cdfe69c6aa",
        "outputId": "0114f1be-5076-41ce-d431-219df4e41215"
      },
      "cell_type": "code",
      "source": [
        "# Uncomment the lines below when you have defined the variables to check your results\n",
        "print(((a and b) or (c and d)) == False)\n",
        "print(((a or c) and (b or d)) == False)\n",
        "print(a and (not b) and (not c) and (not d))"
      ],
      "id": "5c6037cdfe69c6aa",
      "outputs": [
        {
          "name": "stdout",
          "output_type": "stream",
          "text": [
            "True\n",
            "True\n",
            "True\n"
          ]
        }
      ],
      "execution_count": null
    },
    {
      "metadata": {
        "id": "30b05eee2d5938e9"
      },
      "cell_type": "code",
      "source": [
        "# Another configuration to rule out other possibilities\n",
        "a = True\n",
        "b = False\n",
        "c = True\n",
        "d = False\n",
        "\n",
        "# Original statements\n",
        "print(a and not b)\n",
        "print(not c or d)\n",
        "\n",
        "# Additional statement to restrict configuration\n",
        "print(c and not d)\n"
      ],
      "id": "30b05eee2d5938e9",
      "outputs": [],
      "execution_count": null
    },
    {
      "cell_type": "markdown",
      "source": [
        "Is the configuration of a, b, c, and d that makes both statements true unique? Why or why not?\n",
        "The configuration is not unique. For the first statement print(a and not b), a must be True and b must be False to make it True. For the second statement print(not c or d), c must be False or d must be True to make it True.\n",
        "\n",
        "Thus, a and b are uniquely determined (a must be True and b must be False), but c and d have multiple possible configurations. For example, c can be False and d can be False, or c can be True and d can be True, and so on. To rule out other configurations, you can add another print statement such as print(c and not d).\n",
        "\n",
        "Here is an example to further restrict the configuration:"
      ],
      "metadata": {
        "id": "nn2u9Qr3ySg-"
      },
      "id": "nn2u9Qr3ySg-"
    }
  ],
  "metadata": {
    "kernelspec": {
      "display_name": "Python 3 (ipykernel)",
      "language": "python",
      "name": "python3"
    },
    "language_info": {
      "codemirror_mode": {
        "name": "ipython",
        "version": 3
      },
      "file_extension": ".py",
      "mimetype": "text/x-python",
      "name": "python",
      "nbconvert_exporter": "python",
      "pygments_lexer": "ipython3",
      "version": "3.9.15"
    },
    "colab": {
      "provenance": [],
      "toc_visible": true
    }
  },
  "nbformat": 4,
  "nbformat_minor": 5
}